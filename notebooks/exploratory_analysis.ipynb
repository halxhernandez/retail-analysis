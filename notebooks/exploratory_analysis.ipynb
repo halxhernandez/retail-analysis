{
 "cells": [
  {
   "cell_type": "markdown",
   "metadata": {},
   "source": [
    "# Análisis Exploratorio de Datos - Online Retail II\n",
    "## Dataset de transacciones de e-commerce"
   ]
  },
  {
   "cell_type": "code",
   "execution_count": 1,
   "metadata": {},
   "outputs": [
    {
     "name": "stdout",
     "output_type": "stream",
     "text": [
      "Módulos importados correctamente ✓\n"
     ]
    }
   ],
   "source": [
    "import pandas as pd\n",
    "import numpy as np\n",
    "import matplotlib.pyplot as plt\n",
    "import seaborn as sns\n",
    "from pathlib import Path\n",
    "import sys\n",
    "\n",
    "# Agregar directorio src al path\n",
    "sys.path.append('../src')\n",
    "\n",
    "from data_loader import RetailDataLoader\n",
    "from analysis import RetailAnalyzer\n",
    "from visualizations import RetailVisualizer\n",
    "\n",
    "# Configuración\n",
    "sns.set_style('whitegrid')\n",
    "plt.rcParams['figure.figsize'] = (14, 6)\n",
    "\n",
    "print('Módulos importados correctamente ✓')"
   ]
  },
  {
   "cell_type": "markdown",
   "metadata": {},
   "source": [
    "## 1. Carga de Datos"
   ]
  },
  {
   "cell_type": "code",
   "execution_count": null,
   "metadata": {},
   "outputs": [],
   "source": [
    "# Cargar datos\n",
    "# loader = RetailDataLoader('../data/online_retail_II.xlsx')\n",
    "# df = loader.load_data()\n",
    "# df_clean = loader.clean_data()\n",
    "# summary = loader.get_summary()\n",
    "# print(summary)"
   ]
  },
  {
   "cell_type": "markdown",
   "metadata": {},
   "source": [
    "## 2. Análisis Estadístico"
   ]
  },
  {
   "cell_type": "code",
   "execution_count": null,
   "metadata": {},
   "outputs": [],
   "source": [
    "# analyzer = RetailAnalyzer(df_clean)\n",
    "# stats = analyzer.get_basic_stats()\n",
    "# print(stats)"
   ]
  },
  {
   "cell_type": "markdown",
   "metadata": {},
   "source": [
    "## 3. Segmentación RFM"
   ]
  },
  {
   "cell_type": "code",
   "execution_count": null,
   "metadata": {},
   "outputs": [],
   "source": [
    "# rfm = analyzer.customer_rfm_segmentation(advanced=True)\n",
    "# print(rfm.head(10))"
   ]
  },
  {
   "cell_type": "markdown",
   "metadata": {},
   "source": [
    "## 4. Visualizaciones"
   ]
  },
  {
   "cell_type": "code",
   "execution_count": null,
   "metadata": {},
   "outputs": [],
   "source": [
    "# visualizer = RetailVisualizer(df_clean)\n",
    "# visualizer.plot_sales_over_time(freq='M')\n",
    "# visualizer.plot_top_countries(top_n=10)\n",
    "# visualizer.plot_top_products(top_n=15)"
   ]
  },
  {
   "cell_type": "markdown",
   "metadata": {},
   "source": [
    "## 5. Análisis Temporal"
   ]
  },
  {
   "cell_type": "code",
   "execution_count": null,
   "metadata": {},
   "outputs": [],
   "source": [
    "# monthly = analyzer.sales_by_month()\n",
    "# daily = analyzer.sales_by_day_of_week()\n",
    "# hourly = analyzer.sales_by_hour()\n",
    "# peak = analyzer.get_peak_sales_time()\n",
    "# print(f'Hora pico de ventas: {peak}')"
   ]
  }
 ],
 "metadata": {
  "kernelspec": {
   "display_name": "retail-analysis",
   "language": "python",
   "name": "python3"
  },
  "language_info": {
   "codemirror_mode": {
    "name": "ipython",
    "version": 3
   },
   "file_extension": ".py",
   "mimetype": "text/x-python",
   "name": "python",
   "nbconvert_exporter": "python",
   "pygments_lexer": "ipython3",
   "version": "3.12.7"
  }
 },
 "nbformat": 4,
 "nbformat_minor": 4
}
